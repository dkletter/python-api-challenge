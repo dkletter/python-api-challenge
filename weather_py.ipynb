{
 "cells": [
  {
   "cell_type": "markdown",
   "metadata": {},
   "source": [
    "# WeatherPy\n",
    "----\n",
    "\n",
    "#### Note\n",
    "* Instructions have been included for each segment. You do not have to follow them exactly, but they are included to help you think through the steps."
   ]
  },
  {
   "cell_type": "code",
   "execution_count": 40,
   "metadata": {
    "scrolled": true
   },
   "outputs": [],
   "source": [
    "# Dependencies and Setup\n",
    "import matplotlib.pyplot as plt\n",
    "import pandas as pd\n",
    "import numpy as np\n",
    "import requests\n",
    "import json\n",
    "import time\n",
    "from datetime import date\n",
    "from scipy.stats import linregress\n",
    "\n",
    "# Import API key\n",
    "from api_keys import weather_api_key\n",
    "\n",
    "# Incorporated citipy to determine city based on latitude and longitude\n",
    "from citipy import citipy\n",
    "\n",
    "# Output File (CSV)\n",
    "output_data_file = \"data/cities.csv\"\n",
    "\n",
    "# Range of latitudes and longitudes\n",
    "lat_range = (-90, 90)\n",
    "lng_range = (-180, 180)"
   ]
  },
  {
   "cell_type": "markdown",
   "metadata": {},
   "source": [
    "## Generate Cities List"
   ]
  },
  {
   "cell_type": "code",
   "execution_count": 17,
   "metadata": {},
   "outputs": [
    {
     "data": {
      "text/plain": [
       "605"
      ]
     },
     "execution_count": 17,
     "metadata": {},
     "output_type": "execute_result"
    }
   ],
   "source": [
    "# List for holding lat_lngs and cities\n",
    "lat_lngs = []\n",
    "cities = []\n",
    "\n",
    "# Create a set of random lat and lng combinations\n",
    "lats = np.random.uniform(lat_range[0], lat_range[1], size=1500)\n",
    "lngs = np.random.uniform(lng_range[0], lng_range[1], size=1500)\n",
    "lat_lngs = zip(lats, lngs)\n",
    "\n",
    "# Identify nearest city for each lat, lng combination\n",
    "for lat_lng in lat_lngs:\n",
    "    city = citipy.nearest_city(lat_lng[0], lat_lng[1]).city_name\n",
    "    \n",
    "    # If the city is unique, then add it to a our cities list\n",
    "    if city not in cities:\n",
    "        cities.append(city)\n",
    "\n",
    "# Print the city count to confirm sufficient count\n",
    "len(cities)"
   ]
  },
  {
   "cell_type": "markdown",
   "metadata": {},
   "source": [
    "### Perform API Calls\n",
    "* Perform a weather check on each city using a series of successive API calls.\n",
    "* Include a print log of each city as it'sbeing processed (with the city number and city name).\n"
   ]
  },
  {
   "cell_type": "code",
   "execution_count": 28,
   "metadata": {},
   "outputs": [
    {
     "name": "stdout",
     "output_type": "stream",
     "text": [
      "Begin retrieving data...\n",
      "-----------------------------\n",
      "Processing record 0 for kapaa\n",
      "Processing record 1 for nikolskoye\n",
      "Processing record 2 for olinda\n",
      "Processing record 3 for yurgamysh\n",
      "Processing record 4 for nhulunbuy\n",
      "Processing record 5 for cidreira\n",
      "Processing record 6 for carnarvon\n",
      "Processing record 7 for thompson\n",
      "Processing record 8 for palmer\n",
      "City not found. Skipping...\n",
      "Processing record 10 for victoria\n",
      "Processing record 11 for port elizabeth\n",
      "Processing record 12 for kieta\n",
      "Processing record 13 for talnakh\n",
      "Processing record 14 for luderitz\n",
      "Processing record 15 for provideniya\n",
      "Processing record 16 for busselton\n",
      "City not found. Skipping...\n",
      "Processing record 18 for cape town\n",
      "Processing record 19 for bodden town\n",
      "City not found. Skipping...\n",
      "City not found. Skipping...\n",
      "Processing record 22 for rikitea\n",
      "Processing record 23 for albany\n",
      "Processing record 24 for coolum beach\n",
      "Processing record 25 for khatanga\n",
      "Processing record 26 for pevek\n",
      "Processing record 27 for veraval\n",
      "Processing record 28 for bagan\n",
      "Processing record 29 for punta arenas\n",
      "Processing record 30 for ushuaia\n",
      "Processing record 31 for bluff\n",
      "Processing record 32 for tuktoyaktuk\n",
      "Processing record 33 for korla\n",
      "Processing record 34 for atuona\n",
      "Processing record 35 for mataura\n",
      "Processing record 36 for delaware\n",
      "Processing record 37 for guerrero negro\n",
      "Processing record 38 for mount isa\n",
      "Processing record 39 for bredasdorp\n",
      "Processing record 40 for bethel\n",
      "Processing record 41 for castro\n",
      "Processing record 42 for port alfred\n",
      "Processing record 43 for tuyen quang\n",
      "Processing record 44 for chokurdakh\n",
      "Processing record 45 for baltasi\n",
      "Processing record 46 for rocha\n",
      "Processing record 47 for esperance\n",
      "Processing record 48 for jamestown\n",
      "City not found. Skipping...\n",
      "Processing record 50 for torbay\n",
      "Processing record 51 for klaksvik\n",
      "Processing record 52 for bengkulu\n",
      "Processing record 53 for hobyo\n",
      "Processing record 54 for ust-shonosha\n",
      "Processing record 55 for dikson\n",
      "Processing record 56 for kudahuvadhoo\n",
      "Processing record 57 for besskorbnaya\n",
      "Processing record 58 for libertador general san martin\n",
      "Processing record 59 for bani\n",
      "Processing record 60 for vila velha\n",
      "Processing record 61 for saldanha\n",
      "City not found. Skipping...\n",
      "Processing record 63 for hervey bay\n",
      "Processing record 64 for salalah\n",
      "Processing record 65 for karpinsk\n",
      "Processing record 66 for airai\n",
      "Processing record 67 for new norfolk\n",
      "City not found. Skipping...\n",
      "Processing record 69 for tasiilaq\n",
      "Processing record 70 for ahipara\n",
      "Processing record 71 for cockburn town\n",
      "Processing record 72 for hermanus\n",
      "Processing record 73 for nara\n",
      "Processing record 74 for victoria point\n",
      "Processing record 75 for kruisfontein\n",
      "Processing record 76 for faanui\n",
      "Processing record 77 for ixtapa\n",
      "Processing record 78 for jibuti\n",
      "Processing record 79 for mar del plata\n",
      "Processing record 80 for tateyama\n",
      "Processing record 81 for ponta do sol\n",
      "Processing record 82 for aykhal\n",
      "Processing record 83 for isangel\n",
      "Processing record 84 for comodoro rivadavia\n",
      "Processing record 85 for narsaq\n",
      "Processing record 86 for qaqortoq\n",
      "Processing record 87 for kavieng\n",
      "Processing record 88 for cabo san lucas\n",
      "Processing record 89 for vestmannaeyjar\n",
      "Processing record 90 for hobart\n",
      "City not found. Skipping...\n",
      "Processing record 92 for tignere\n",
      "Processing record 93 for saveh\n",
      "Processing record 94 for cherskiy\n",
      "Processing record 95 for altay\n",
      "Processing record 96 for ravar\n",
      "Processing record 97 for gat\n",
      "Processing record 98 for guozhen\n",
      "Processing record 99 for vilyuysk\n",
      "Processing record 100 for lakes entrance\n",
      "Processing record 101 for sur\n",
      "Processing record 102 for cacequi\n",
      "Processing record 103 for butaritari\n",
      "Processing record 104 for leningradskiy\n",
      "Processing record 105 for cotonou\n",
      "Processing record 106 for sao paulo de olivenca\n",
      "Processing record 107 for ontario\n",
      "Processing record 108 for barrow\n",
      "Processing record 109 for yulara\n",
      "Processing record 110 for winnemucca\n",
      "Processing record 111 for souillac\n",
      "Processing record 112 for worth\n",
      "Processing record 113 for severo-kurilsk\n",
      "Processing record 114 for caravelas\n",
      "City not found. Skipping...\n",
      "Processing record 116 for chuy\n",
      "Processing record 117 for oudtshoorn\n",
      "Processing record 118 for lagoa\n",
      "Processing record 119 for east london\n",
      "Processing record 120 for ugoofaaru\n",
      "Processing record 121 for rapid valley\n",
      "Processing record 122 for tilichiki\n",
      "Processing record 123 for forest\n",
      "Processing record 124 for sao filipe\n",
      "Processing record 125 for pangnirtung\n",
      "Processing record 126 for nouadhibou\n",
      "Processing record 127 for hilo\n",
      "Processing record 128 for kargat\n",
      "Processing record 129 for broome\n",
      "Processing record 130 for saint-louis\n",
      "Processing record 131 for aksu\n",
      "Processing record 132 for amuntai\n",
      "Processing record 133 for dalby\n",
      "Processing record 134 for qaanaaq\n",
      "Processing record 135 for bambous virieux\n",
      "Processing record 136 for sheridan\n",
      "Processing record 137 for elko\n",
      "Processing record 138 for sanandaj\n",
      "Processing record 139 for cobija\n",
      "Processing record 140 for san patricio\n",
      "Processing record 141 for bilma\n",
      "Processing record 142 for kodiak\n",
      "Processing record 143 for wegorzewo\n",
      "Processing record 144 for lebu\n",
      "Processing record 145 for ribeira grande\n",
      "Processing record 146 for saint-philippe\n",
      "Processing record 147 for roma\n",
      "Processing record 148 for pochutla\n",
      "Processing record 149 for coahuayana\n",
      "Processing record 150 for vaini\n",
      "Processing record 151 for saskylakh\n",
      "Processing record 152 for upernavik\n",
      "Processing record 153 for saint-paul\n",
      "Processing record 154 for aklavik\n",
      "Processing record 155 for zhoucheng\n",
      "Processing record 156 for longyearbyen\n",
      "City not found. Skipping...\n",
      "Processing record 158 for hithadhoo\n",
      "Processing record 159 for southbridge\n",
      "Processing record 160 for lavrentiya\n",
      "City not found. Skipping...\n",
      "Processing record 162 for tarakan\n",
      "Processing record 163 for teluknaga\n",
      "Processing record 164 for antalaha\n",
      "Processing record 165 for haines junction\n",
      "Processing record 166 for husavik\n",
      "Processing record 167 for hay river\n",
      "Processing record 168 for bambanglipuro\n",
      "Processing record 169 for saint-leu\n",
      "City not found. Skipping...\n",
      "Processing record 171 for naya bazar\n",
      "City not found. Skipping...\n",
      "City not found. Skipping...\n",
      "City not found. Skipping...\n",
      "Processing record 175 for dondo\n",
      "Processing record 176 for la palma\n",
      "Processing record 177 for saurimo\n",
      "City not found. Skipping...\n",
      "Processing record 179 for westport\n",
      "Processing record 180 for karabash\n",
      "Processing record 181 for codrington\n",
      "Processing record 182 for namibe\n",
      "Processing record 183 for atar\n",
      "Processing record 184 for kahului\n",
      "Processing record 185 for arraial do cabo\n",
      "Processing record 186 for jacareacanga\n",
      "Processing record 187 for hambantota\n",
      "Processing record 188 for lima\n",
      "Processing record 189 for tuatapere\n",
      "Processing record 190 for ukiah\n",
      "City not found. Skipping...\n",
      "Processing record 192 for mahebourg\n",
      "Processing record 193 for sola\n",
      "Processing record 194 for lorengau\n",
      "Processing record 195 for poum\n",
      "Processing record 196 for petropavlovsk-kamchatskiy\n",
      "Processing record 197 for copiapo\n",
      "Processing record 198 for polunochnoye\n",
      "Processing record 199 for norman wells\n",
      "Processing record 200 for moron\n",
      "Processing record 201 for peniche\n",
      "Processing record 202 for wynyard\n",
      "Processing record 203 for batagay-alyta\n",
      "Processing record 204 for avarua\n",
      "Processing record 205 for hamilton\n",
      "City not found. Skipping...\n",
      "Processing record 207 for grand-lahou\n",
      "Processing record 208 for japura\n",
      "Processing record 209 for santa ana\n",
      "Processing record 210 for leshan\n",
      "Processing record 211 for khargone\n",
      "Processing record 212 for asau\n",
      "Processing record 213 for lompoc\n",
      "Processing record 214 for bautar\n",
      "Processing record 215 for slave lake\n",
      "Processing record 216 for shelburne\n",
      "Processing record 217 for aloleng\n",
      "Processing record 218 for touros\n",
      "Processing record 219 for tiksi\n",
      "Processing record 220 for zenzeli\n",
      "City not found. Skipping...\n",
      "Processing record 222 for cayenne\n",
      "Processing record 223 for bhabua\n",
      "Processing record 224 for kaitangata\n",
      "Processing record 225 for kinablangan\n",
      "Processing record 226 for ajdabiya\n",
      "Processing record 227 for saint-augustin\n",
      "Processing record 228 for bahia blanca\n",
      "Processing record 229 for alyangula\n",
      "Processing record 230 for flinders\n",
      "Processing record 231 for broken hill\n",
      "Processing record 232 for hvide sande\n",
      "Processing record 233 for georgetown\n",
      "Processing record 234 for baykit\n",
      "Processing record 235 for ossora\n"
     ]
    },
    {
     "name": "stdout",
     "output_type": "stream",
     "text": [
      "Processing record 236 for la ronge\n",
      "Processing record 237 for paamiut\n",
      "Processing record 238 for nome\n",
      "Processing record 239 for kushiro\n",
      "Processing record 240 for dongli\n",
      "Processing record 241 for hasaki\n",
      "Processing record 242 for hwange\n",
      "Processing record 243 for puerto ayora\n",
      "Processing record 244 for dhidhdhoo\n",
      "Processing record 245 for bela\n",
      "Processing record 246 for saint george\n",
      "Processing record 247 for verkhnetulomskiy\n",
      "Processing record 248 for srednekolymsk\n",
      "Processing record 249 for sokoto\n",
      "Processing record 250 for hermon\n",
      "Processing record 251 for mahajanga\n",
      "Processing record 252 for clyde river\n",
      "Processing record 253 for labuhan\n",
      "City not found. Skipping...\n",
      "Processing record 255 for olivenza\n",
      "Processing record 256 for ostrovnoy\n",
      "Processing record 257 for tawang\n",
      "Processing record 258 for bay city\n",
      "Processing record 259 for pacifica\n",
      "Processing record 260 for port hedland\n",
      "Processing record 261 for brae\n",
      "Processing record 262 for klyuchi\n",
      "Processing record 263 for ancud\n",
      "Processing record 264 for alvorada\n",
      "Processing record 265 for san andres\n",
      "Processing record 266 for mgachi\n",
      "Processing record 267 for bathsheba\n",
      "Processing record 268 for katsuura\n",
      "Processing record 269 for mpraeso\n",
      "Processing record 270 for bhag\n",
      "Processing record 271 for najran\n",
      "Processing record 272 for tual\n",
      "Processing record 273 for exaplatanos\n",
      "Processing record 274 for manakara\n",
      "Processing record 275 for yellowknife\n",
      "Processing record 276 for kondinskoye\n",
      "Processing record 277 for murud\n",
      "Processing record 278 for nelson bay\n",
      "Processing record 279 for chapais\n",
      "City not found. Skipping...\n",
      "Processing record 281 for moindou\n",
      "Processing record 282 for fortuna\n",
      "City not found. Skipping...\n",
      "Processing record 284 for mecca\n",
      "Processing record 285 for sitka\n",
      "Processing record 286 for nemuro\n",
      "Processing record 287 for richards bay\n",
      "Processing record 288 for port macquarie\n",
      "Processing record 289 for jacobina\n",
      "Processing record 290 for mercedes\n",
      "City not found. Skipping...\n",
      "Processing record 292 for belyy yar\n",
      "Processing record 293 for rawson\n",
      "Processing record 294 for aksaray\n",
      "Processing record 295 for cabedelo\n",
      "Processing record 296 for mundo nuevo\n",
      "Processing record 297 for makungu\n",
      "Processing record 298 for meulaboh\n",
      "Processing record 299 for guarapari\n",
      "Processing record 300 for zhanaozen\n",
      "Processing record 301 for te anau\n",
      "Processing record 302 for nouakchott\n",
      "Processing record 303 for haapiti\n",
      "City not found. Skipping...\n",
      "Processing record 305 for tandil\n",
      "Processing record 306 for yining\n",
      "Processing record 307 for mogadishu\n",
      "Processing record 308 for marsh harbour\n",
      "Processing record 309 for coyah\n",
      "Processing record 310 for gallup\n",
      "Processing record 311 for santiago\n",
      "Processing record 312 for mackenzie\n",
      "Processing record 313 for namatanai\n",
      "Processing record 314 for inhambane\n",
      "Processing record 315 for namtsy\n",
      "City not found. Skipping...\n",
      "Processing record 317 for itarema\n",
      "Processing record 318 for kurumkan\n",
      "Processing record 319 for dongsheng\n",
      "Processing record 320 for ellisras\n",
      "Processing record 321 for uyuni\n",
      "Processing record 322 for sao joao da barra\n",
      "Processing record 323 for viedma\n",
      "Processing record 324 for sri aman\n",
      "Processing record 325 for norilsk\n",
      "Processing record 326 for alexandria\n",
      "Processing record 327 for zabid\n",
      "Processing record 328 for blackwater\n",
      "Processing record 329 for cabatuan\n",
      "Processing record 330 for karratha\n",
      "Processing record 331 for noumea\n",
      "Processing record 332 for revda\n",
      "Processing record 333 for aranjuez\n",
      "Processing record 334 for vila franca do campo\n",
      "Processing record 335 for beausejour\n",
      "Processing record 336 for amapa\n",
      "Processing record 337 for mana\n",
      "Processing record 338 for lata\n",
      "Processing record 339 for marawi\n",
      "Processing record 340 for ulaangom\n",
      "Processing record 341 for san policarpo\n",
      "Processing record 342 for lincoln village\n",
      "Processing record 343 for noginsk\n",
      "Processing record 344 for harper\n",
      "Processing record 345 for sinnamary\n",
      "Processing record 346 for tukrah\n",
      "Processing record 347 for bara\n",
      "Processing record 348 for dusetos\n",
      "Processing record 349 for anadyr\n",
      "Processing record 350 for zaysan\n",
      "Processing record 351 for port lincoln\n",
      "Processing record 352 for carangola\n",
      "Processing record 353 for vao\n",
      "Processing record 354 for akdagmadeni\n",
      "Processing record 355 for minot\n",
      "Processing record 356 for nanortalik\n",
      "Processing record 357 for marystown\n",
      "Processing record 358 for bud\n",
      "Processing record 359 for oyem\n",
      "Processing record 360 for aabybro\n",
      "Processing record 361 for urucara\n",
      "Processing record 362 for coquimbo\n",
      "Processing record 363 for xai-xai\n",
      "Processing record 364 for yinchuan\n",
      "Processing record 365 for coihaique\n",
      "Processing record 366 for metro\n",
      "City not found. Skipping...\n",
      "Processing record 368 for tirat karmel\n",
      "Processing record 369 for diego de almagro\n",
      "Processing record 370 for fengzhen\n",
      "Processing record 371 for orlik\n",
      "Processing record 372 for carutapera\n",
      "Processing record 373 for beringovskiy\n",
      "Processing record 374 for taksimo\n",
      "Processing record 375 for pingliang\n",
      "Processing record 376 for kavaratti\n",
      "Processing record 377 for pipri\n",
      "Processing record 378 for gwadar\n",
      "Processing record 379 for sibu\n",
      "Processing record 380 for zhangjiakou\n",
      "Processing record 381 for kirakira\n",
      "Processing record 382 for santa fe\n",
      "Processing record 383 for nokha\n",
      "Processing record 384 for andenes\n",
      "Processing record 385 for vostok\n",
      "City not found. Skipping...\n",
      "Processing record 387 for nakasongola\n",
      "Processing record 388 for trairi\n",
      "Processing record 389 for hami\n",
      "Processing record 390 for barbastro\n",
      "Processing record 391 for kamenka\n",
      "City not found. Skipping...\n",
      "Processing record 393 for coruripe\n",
      "Processing record 394 for sharjah\n",
      "Processing record 395 for surovikino\n",
      "Processing record 396 for geraldton\n",
      "Processing record 397 for tiznit\n",
      "City not found. Skipping...\n",
      "Processing record 399 for trinidad\n",
      "Processing record 400 for bonthe\n",
      "Processing record 401 for hasilpur\n",
      "Processing record 402 for storsteinnes\n",
      "Processing record 403 for howard springs\n",
      "Processing record 404 for langsa\n",
      "Processing record 405 for kupang\n",
      "Processing record 406 for udachnyy\n",
      "Processing record 407 for bairiki\n",
      "Processing record 408 for haimen\n",
      "Processing record 409 for mehamn\n",
      "Processing record 410 for tianpeng\n",
      "Processing record 411 for kloulklubed\n",
      "Processing record 412 for south venice\n",
      "Processing record 413 for vardo\n",
      "Processing record 414 for san cristobal\n",
      "Processing record 415 for samarai\n",
      "Processing record 416 for imbituba\n",
      "Processing record 417 for kalmunai\n",
      "Processing record 418 for pontes e lacerda\n",
      "Processing record 419 for tura\n",
      "City not found. Skipping...\n",
      "Processing record 421 for pendleton\n",
      "Processing record 422 for rameswaram\n",
      "Processing record 423 for tabas\n",
      "Processing record 424 for togur\n",
      "Processing record 425 for astorga\n",
      "Processing record 426 for freeport\n",
      "Processing record 427 for toora-khem\n",
      "Processing record 428 for antofagasta\n",
      "Processing record 429 for san carlos de bariloche\n",
      "Processing record 430 for iqaluit\n",
      "Processing record 431 for santa maria\n",
      "Processing record 432 for champerico\n",
      "Processing record 433 for edd\n",
      "Processing record 434 for grand-santi\n",
      "Processing record 435 for mattru\n",
      "City not found. Skipping...\n",
      "Processing record 437 for svetlyy\n",
      "City not found. Skipping...\n",
      "Processing record 439 for davila\n",
      "Processing record 440 for ouro preto do oeste\n",
      "Processing record 441 for lujan\n",
      "Processing record 442 for capreol\n",
      "Processing record 443 for bilibino\n",
      "Processing record 444 for fare\n",
      "Processing record 445 for asfi\n",
      "Processing record 446 for werda\n",
      "Processing record 447 for omsukchan\n",
      "Processing record 448 for batemans bay\n",
      "Processing record 449 for quatre cocos\n",
      "Processing record 450 for bowen\n",
      "Processing record 451 for tamandare\n",
      "Processing record 452 for ormara\n",
      "Processing record 453 for evensk\n",
      "Processing record 454 for ilulissat\n",
      "Processing record 455 for acapulco\n",
      "Processing record 456 for vanimo\n",
      "Processing record 457 for olkhovka\n",
      "Processing record 458 for darnah\n",
      "Processing record 459 for lixourion\n",
      "Processing record 460 for stromness\n",
      "Processing record 461 for ketchikan\n",
      "Processing record 462 for ventspils\n",
      "Processing record 463 for carauari\n",
      "Processing record 464 for salinopolis\n",
      "Processing record 465 for palana\n",
      "City not found. Skipping...\n",
      "City not found. Skipping...\n",
      "Processing record 468 for kedrovyy\n",
      "Processing record 469 for arlit\n",
      "City not found. Skipping...\n",
      "Processing record 471 for dumai\n",
      "Processing record 472 for singaraja\n",
      "Processing record 473 for abha\n"
     ]
    },
    {
     "name": "stdout",
     "output_type": "stream",
     "text": [
      "Processing record 474 for tahe\n",
      "Processing record 475 for mirnyy\n",
      "Processing record 476 for dabola\n",
      "Processing record 477 for darhan\n",
      "Processing record 478 for pisco\n",
      "Processing record 479 for urengoy\n",
      "Processing record 480 for nowy targ\n",
      "Processing record 481 for rize\n",
      "Processing record 482 for adrar\n",
      "Processing record 483 for alto araguaia\n",
      "Processing record 484 for lazaro cardenas\n",
      "Processing record 485 for syamzha\n",
      "Processing record 486 for rio grande\n",
      "Processing record 487 for ngunguru\n",
      "Processing record 488 for belmonte\n",
      "Processing record 489 for tautira\n",
      "Processing record 490 for graaff-reinet\n",
      "Processing record 491 for dingle\n",
      "Processing record 492 for kabanga\n",
      "Processing record 493 for goleniow\n",
      "Processing record 494 for artvin\n",
      "Processing record 495 for necochea\n",
      "Processing record 496 for baculin\n",
      "Processing record 497 for san luis\n",
      "Processing record 498 for cuzaplac\n",
      "Processing record 499 for kampot\n",
      "Processing record 500 for sao francisco do sul\n",
      "Processing record 501 for thinadhoo\n",
      "Processing record 502 for waipawa\n",
      "Processing record 503 for salzwedel\n",
      "Processing record 504 for guadalupe y calvo\n",
      "Processing record 505 for sunrise manor\n",
      "Processing record 506 for terrace\n",
      "Processing record 507 for sherghati\n",
      "Processing record 508 for ruy barbosa\n",
      "Processing record 509 for fevik\n",
      "Processing record 510 for dumka\n",
      "Processing record 511 for sabang\n",
      "Processing record 512 for progreso\n",
      "Processing record 513 for norton\n",
      "Processing record 514 for salinas\n",
      "Processing record 515 for mackay\n",
      "Processing record 516 for mosalsk\n",
      "City not found. Skipping...\n",
      "Processing record 518 for faya\n",
      "Processing record 519 for mitsamiouli\n",
      "Processing record 520 for vandra\n",
      "Processing record 521 for lanzhou\n",
      "Processing record 522 for san quintin\n",
      "Processing record 523 for canutama\n",
      "Processing record 524 for gamba\n",
      "Processing record 525 for varzea grande\n",
      "Processing record 526 for komsomolskiy\n",
      "Processing record 527 for san borja\n",
      "Processing record 528 for obera\n",
      "City not found. Skipping...\n",
      "Processing record 530 for safaga\n",
      "Processing record 531 for selma\n",
      "Processing record 532 for berdigestyakh\n",
      "Processing record 533 for saint-francois\n",
      "Processing record 534 for fort nelson\n",
      "Processing record 535 for eyl\n",
      "Processing record 536 for egvekinot\n",
      "Processing record 537 for ranot\n",
      "Processing record 538 for saint anthony\n",
      "City not found. Skipping...\n",
      "City not found. Skipping...\n",
      "Processing record 541 for yakeshi\n",
      "Processing record 542 for bonavista\n",
      "Processing record 543 for mananjary\n",
      "Processing record 544 for yatou\n",
      "Processing record 545 for houma\n",
      "Processing record 546 for daru\n",
      "Processing record 547 for puerto escondido\n",
      "Processing record 548 for muisne\n",
      "Processing record 549 for padang\n",
      "Processing record 550 for kenai\n",
      "Processing record 551 for portland\n",
      "Processing record 552 for kashi\n",
      "Processing record 553 for bad aussee\n",
      "Processing record 554 for birjand\n",
      "Processing record 555 for sakaiminato\n",
      "Processing record 556 for northam\n",
      "Processing record 557 for juneau\n",
      "Processing record 558 for yumen\n",
      "Processing record 559 for anna\n",
      "Processing record 560 for yaan\n",
      "Processing record 561 for bagdarin\n",
      "Processing record 562 for suba\n",
      "Processing record 563 for dwarka\n",
      "Processing record 564 for pascagoula\n",
      "Processing record 565 for mnogovershinnyy\n",
      "Processing record 566 for chicama\n",
      "Processing record 567 for cap malheureux\n",
      "Processing record 568 for lashio\n",
      "Processing record 569 for itoman\n",
      "Processing record 570 for upata\n",
      "Processing record 571 for nueve de julio\n",
      "Processing record 572 for langen\n",
      "City not found. Skipping...\n",
      "Processing record 574 for cumanayagua\n",
      "Processing record 575 for warrnambool\n",
      "Processing record 576 for erzincan\n",
      "Processing record 577 for port blair\n",
      "Processing record 578 for gornyak\n",
      "Processing record 579 for fairbanks\n",
      "Processing record 580 for rovaniemi\n",
      "Processing record 581 for naryan-mar\n",
      "City not found. Skipping...\n",
      "Processing record 583 for yakima\n",
      "Processing record 584 for elk city\n",
      "Processing record 585 for norden\n",
      "Processing record 586 for tindivanam\n",
      "Processing record 587 for bakel\n",
      "Processing record 588 for podosinovets\n",
      "Processing record 589 for waingapu\n",
      "Processing record 590 for vaitape\n",
      "Processing record 591 for flin flon\n",
      "Processing record 592 for college\n",
      "Processing record 593 for grindavik\n",
      "Processing record 594 for harwich\n",
      "Processing record 595 for bataipora\n",
      "Processing record 596 for havre-saint-pierre\n",
      "Processing record 597 for bubaque\n",
      "Processing record 598 for riyadh\n",
      "Processing record 599 for dzhalil\n",
      "Processing record 600 for topolobampo\n",
      "Processing record 601 for bjornevatn\n",
      "Processing record 602 for san rafael\n",
      "Processing record 603 for alofi\n",
      "Processing record 604 for sobolevo\n",
      "-----------------------------\n",
      "Data retrieval process done.\n"
     ]
    }
   ],
   "source": [
    "# Define our parameters\n",
    "list_city = []\n",
    "list_lat = []\n",
    "list_lng = []\n",
    "list_temp = []\n",
    "list_humidity = []\n",
    "list_cloudiness = []\n",
    "list_wind = []\n",
    "list_cntry = []\n",
    "list_date = []\n",
    "\n",
    "counter = 0\n",
    "\n",
    "# URL for our GET request\n",
    "url = f'http://api.openweathermap.org/data/2.5/weather?appid={weather_api_key}&units=imperial&q='\n",
    "\n",
    "print('Begin retrieving data...')\n",
    "print('-----------------------------')\n",
    "\n",
    "for city in cities:\n",
    "    try:\n",
    "        response = requests.get(url + city).json()\n",
    "\n",
    "        list_city.append(response['name'])\n",
    "        list_lat.append(response['coord']['lat'])\n",
    "        list_lng.append(response['coord']['lon'])\n",
    "        list_temp.append(response['main']['temp_max'])\n",
    "        list_humidity.append(response['main']['humidity'])\n",
    "        list_cloudiness.append(response['clouds']['all'])\n",
    "        list_wind.append(response['wind']['speed'])\n",
    "        list_cntry.append(response['sys']['country'])\n",
    "        list_date.append(response['dt'])\n",
    "        \n",
    "        print(f'Processing record {counter} for {city}')\n",
    "        \n",
    "    except:\n",
    "        print('City not found. Skipping...')\n",
    "        \n",
    "    counter += 1\n",
    "\n",
    "print('-----------------------------')\n",
    "print('Data retrieval process done.')"
   ]
  },
  {
   "cell_type": "markdown",
   "metadata": {},
   "source": [
    "### Convert Raw Data to DataFrame\n",
    "* Export the city data into a .csv.\n",
    "* Display the DataFrame"
   ]
  },
  {
   "cell_type": "code",
   "execution_count": 30,
   "metadata": {
    "scrolled": true
   },
   "outputs": [
    {
     "data": {
      "text/html": [
       "<div>\n",
       "<style scoped>\n",
       "    .dataframe tbody tr th:only-of-type {\n",
       "        vertical-align: middle;\n",
       "    }\n",
       "\n",
       "    .dataframe tbody tr th {\n",
       "        vertical-align: top;\n",
       "    }\n",
       "\n",
       "    .dataframe thead th {\n",
       "        text-align: right;\n",
       "    }\n",
       "</style>\n",
       "<table border=\"1\" class=\"dataframe\">\n",
       "  <thead>\n",
       "    <tr style=\"text-align: right;\">\n",
       "      <th></th>\n",
       "      <th>City</th>\n",
       "      <th>Lat</th>\n",
       "      <th>Lng</th>\n",
       "      <th>Max Temp</th>\n",
       "      <th>Humidity</th>\n",
       "      <th>Cloudiness</th>\n",
       "      <th>Wind Speed</th>\n",
       "      <th>Country</th>\n",
       "      <th>Date</th>\n",
       "    </tr>\n",
       "  </thead>\n",
       "  <tbody>\n",
       "    <tr>\n",
       "      <th>0</th>\n",
       "      <td>Kapaa</td>\n",
       "      <td>22.0752</td>\n",
       "      <td>-159.3190</td>\n",
       "      <td>80.92</td>\n",
       "      <td>74</td>\n",
       "      <td>75</td>\n",
       "      <td>4.00</td>\n",
       "      <td>US</td>\n",
       "      <td>1632101408</td>\n",
       "    </tr>\n",
       "    <tr>\n",
       "      <th>1</th>\n",
       "      <td>Nikolskoye</td>\n",
       "      <td>59.7035</td>\n",
       "      <td>30.7861</td>\n",
       "      <td>40.89</td>\n",
       "      <td>82</td>\n",
       "      <td>100</td>\n",
       "      <td>8.75</td>\n",
       "      <td>RU</td>\n",
       "      <td>1632101443</td>\n",
       "    </tr>\n",
       "    <tr>\n",
       "      <th>2</th>\n",
       "      <td>Olinda</td>\n",
       "      <td>-8.0089</td>\n",
       "      <td>-34.8553</td>\n",
       "      <td>76.73</td>\n",
       "      <td>69</td>\n",
       "      <td>40</td>\n",
       "      <td>8.05</td>\n",
       "      <td>BR</td>\n",
       "      <td>1632101443</td>\n",
       "    </tr>\n",
       "    <tr>\n",
       "      <th>3</th>\n",
       "      <td>Yurgamysh</td>\n",
       "      <td>55.3714</td>\n",
       "      <td>64.4656</td>\n",
       "      <td>32.27</td>\n",
       "      <td>78</td>\n",
       "      <td>19</td>\n",
       "      <td>12.15</td>\n",
       "      <td>RU</td>\n",
       "      <td>1632101443</td>\n",
       "    </tr>\n",
       "    <tr>\n",
       "      <th>4</th>\n",
       "      <td>Nhulunbuy</td>\n",
       "      <td>-12.2333</td>\n",
       "      <td>136.7667</td>\n",
       "      <td>84.81</td>\n",
       "      <td>61</td>\n",
       "      <td>75</td>\n",
       "      <td>14.97</td>\n",
       "      <td>AU</td>\n",
       "      <td>1632101444</td>\n",
       "    </tr>\n",
       "  </tbody>\n",
       "</table>\n",
       "</div>"
      ],
      "text/plain": [
       "         City      Lat       Lng  Max Temp  Humidity  Cloudiness  Wind Speed  \\\n",
       "0       Kapaa  22.0752 -159.3190     80.92        74          75        4.00   \n",
       "1  Nikolskoye  59.7035   30.7861     40.89        82         100        8.75   \n",
       "2      Olinda  -8.0089  -34.8553     76.73        69          40        8.05   \n",
       "3   Yurgamysh  55.3714   64.4656     32.27        78          19       12.15   \n",
       "4   Nhulunbuy -12.2333  136.7667     84.81        61          75       14.97   \n",
       "\n",
       "  Country        Date  \n",
       "0      US  1632101408  \n",
       "1      RU  1632101443  \n",
       "2      BR  1632101443  \n",
       "3      RU  1632101443  \n",
       "4      AU  1632101444  "
      ]
     },
     "execution_count": 30,
     "metadata": {},
     "output_type": "execute_result"
    }
   ],
   "source": [
    "# Make a DataFrame with the data we retrieved\n",
    "weather_data_df = pd.DataFrame({\n",
    "    'City': list_city, \n",
    "    'Lat': list_lat, \n",
    "    'Lng': list_lng, \n",
    "    'Max Temp': list_temp, \n",
    "    'Humidity': list_humidity, \n",
    "    'Cloudiness': list_cloudiness, \n",
    "    'Wind Speed': list_wind, \n",
    "    'Country': list_cntry, \n",
    "    'Date': list_date\n",
    "})\n",
    "\n",
    "# Explort the city data into a CSV file\n",
    "weather_data_df.to_csv(output_data_file, encoding='utf-8', index=False, header=True)\n",
    "\n",
    "# Display the DataFrame\n",
    "weather_data_df.head()"
   ]
  },
  {
   "cell_type": "code",
   "execution_count": 33,
   "metadata": {},
   "outputs": [
    {
     "data": {
      "text/html": [
       "<div>\n",
       "<style scoped>\n",
       "    .dataframe tbody tr th:only-of-type {\n",
       "        vertical-align: middle;\n",
       "    }\n",
       "\n",
       "    .dataframe tbody tr th {\n",
       "        vertical-align: top;\n",
       "    }\n",
       "\n",
       "    .dataframe thead th {\n",
       "        text-align: right;\n",
       "    }\n",
       "</style>\n",
       "<table border=\"1\" class=\"dataframe\">\n",
       "  <thead>\n",
       "    <tr style=\"text-align: right;\">\n",
       "      <th></th>\n",
       "      <th>Lat</th>\n",
       "      <th>Lng</th>\n",
       "      <th>Max Temp</th>\n",
       "      <th>Humidity</th>\n",
       "      <th>Cloudiness</th>\n",
       "      <th>Wind Speed</th>\n",
       "      <th>Date</th>\n",
       "    </tr>\n",
       "  </thead>\n",
       "  <tbody>\n",
       "    <tr>\n",
       "      <th>count</th>\n",
       "      <td>564.000000</td>\n",
       "      <td>564.000000</td>\n",
       "      <td>564.000000</td>\n",
       "      <td>564.000000</td>\n",
       "      <td>564.000000</td>\n",
       "      <td>564.000000</td>\n",
       "      <td>5.640000e+02</td>\n",
       "    </tr>\n",
       "    <tr>\n",
       "      <th>mean</th>\n",
       "      <td>18.482312</td>\n",
       "      <td>18.129385</td>\n",
       "      <td>65.030922</td>\n",
       "      <td>70.388298</td>\n",
       "      <td>50.074468</td>\n",
       "      <td>8.041330</td>\n",
       "      <td>1.632102e+09</td>\n",
       "    </tr>\n",
       "    <tr>\n",
       "      <th>std</th>\n",
       "      <td>34.007215</td>\n",
       "      <td>92.477826</td>\n",
       "      <td>16.638931</td>\n",
       "      <td>20.306880</td>\n",
       "      <td>40.850959</td>\n",
       "      <td>5.982481</td>\n",
       "      <td>1.057670e+02</td>\n",
       "    </tr>\n",
       "    <tr>\n",
       "      <th>min</th>\n",
       "      <td>-54.800000</td>\n",
       "      <td>-179.166700</td>\n",
       "      <td>10.620000</td>\n",
       "      <td>6.000000</td>\n",
       "      <td>0.000000</td>\n",
       "      <td>0.000000</td>\n",
       "      <td>1.632101e+09</td>\n",
       "    </tr>\n",
       "    <tr>\n",
       "      <th>25%</th>\n",
       "      <td>-11.231625</td>\n",
       "      <td>-62.304025</td>\n",
       "      <td>52.990000</td>\n",
       "      <td>60.000000</td>\n",
       "      <td>5.000000</td>\n",
       "      <td>3.440000</td>\n",
       "      <td>1.632101e+09</td>\n",
       "    </tr>\n",
       "    <tr>\n",
       "      <th>50%</th>\n",
       "      <td>21.820000</td>\n",
       "      <td>25.303100</td>\n",
       "      <td>67.970000</td>\n",
       "      <td>75.000000</td>\n",
       "      <td>45.000000</td>\n",
       "      <td>6.420000</td>\n",
       "      <td>1.632102e+09</td>\n",
       "    </tr>\n",
       "    <tr>\n",
       "      <th>75%</th>\n",
       "      <td>47.716625</td>\n",
       "      <td>100.324825</td>\n",
       "      <td>79.145000</td>\n",
       "      <td>85.000000</td>\n",
       "      <td>95.000000</td>\n",
       "      <td>11.500000</td>\n",
       "      <td>1.632102e+09</td>\n",
       "    </tr>\n",
       "    <tr>\n",
       "      <th>max</th>\n",
       "      <td>78.218600</td>\n",
       "      <td>179.316700</td>\n",
       "      <td>92.710000</td>\n",
       "      <td>100.000000</td>\n",
       "      <td>100.000000</td>\n",
       "      <td>41.430000</td>\n",
       "      <td>1.632102e+09</td>\n",
       "    </tr>\n",
       "  </tbody>\n",
       "</table>\n",
       "</div>"
      ],
      "text/plain": [
       "              Lat         Lng    Max Temp    Humidity  Cloudiness  Wind Speed  \\\n",
       "count  564.000000  564.000000  564.000000  564.000000  564.000000  564.000000   \n",
       "mean    18.482312   18.129385   65.030922   70.388298   50.074468    8.041330   \n",
       "std     34.007215   92.477826   16.638931   20.306880   40.850959    5.982481   \n",
       "min    -54.800000 -179.166700   10.620000    6.000000    0.000000    0.000000   \n",
       "25%    -11.231625  -62.304025   52.990000   60.000000    5.000000    3.440000   \n",
       "50%     21.820000   25.303100   67.970000   75.000000   45.000000    6.420000   \n",
       "75%     47.716625  100.324825   79.145000   85.000000   95.000000   11.500000   \n",
       "max     78.218600  179.316700   92.710000  100.000000  100.000000   41.430000   \n",
       "\n",
       "               Date  \n",
       "count  5.640000e+02  \n",
       "mean   1.632102e+09  \n",
       "std    1.057670e+02  \n",
       "min    1.632101e+09  \n",
       "25%    1.632101e+09  \n",
       "50%    1.632102e+09  \n",
       "75%    1.632102e+09  \n",
       "max    1.632102e+09  "
      ]
     },
     "execution_count": 33,
     "metadata": {},
     "output_type": "execute_result"
    }
   ],
   "source": [
    "# Describe the DataFrame\n",
    "weather_data_df.describe()"
   ]
  },
  {
   "cell_type": "markdown",
   "metadata": {},
   "source": [
    "## Inspect the data and remove the cities where the humidity > 100%.\n",
    "Skip this step if there are no cities that have humidity > 100%."
   ]
  },
  {
   "cell_type": "code",
   "execution_count": 34,
   "metadata": {},
   "outputs": [
    {
     "name": "stdout",
     "output_type": "stream",
     "text": [
      "Whew! There are 0 cities with humidity over 100%\n"
     ]
    }
   ],
   "source": [
    "check_humidity = weather_data_df.loc[weather_data_df['Humidity']>100]\n",
    "\n",
    "humidity_over_100 = check_humidity.value_counts().tolist()\n",
    "\n",
    "if humidity_over_100:\n",
    "    print(f'Ugh! There are {len(humidity_over_100)} cities with humidity over 100%')\n",
    "else:\n",
    "    print('Whew! There are 0 cities with humidity over 100%')"
   ]
  },
  {
   "cell_type": "markdown",
   "metadata": {},
   "source": [
    "Since there are no cities with humidity > 100% skipping ahead to plotting the data."
   ]
  },
  {
   "cell_type": "markdown",
   "metadata": {},
   "source": [
    "## Plotting the Data\n",
    "* Use proper labeling of the plots using plot titles (including date of analysis) and axes labels.\n",
    "* Save the plotted figures as .pngs."
   ]
  },
  {
   "cell_type": "markdown",
   "metadata": {},
   "source": [
    "## Latitude vs. Temperature Plot"
   ]
  },
  {
   "cell_type": "code",
   "execution_count": 44,
   "metadata": {
    "scrolled": true
   },
   "outputs": [
    {
     "data": {
      "image/png": "[encoded data removed]",
      "text/plain": [
       "<Figure size 432x288 with 1 Axes>"
      ]
     },
     "metadata": {
      "needs_background": "light"
     },
     "output_type": "display_data"
    }
   ],
   "source": [
    "weather_data_df.plot.scatter(\n",
    "    x = 'Lat', \n",
    "    y = 'Max Temp', \n",
    ")\n",
    "plt.grid(alpha=0.5)\n",
    "plt.xlabel('Latitude')\n",
    "plt.ylabel('Max Temperature (F)')\n",
    "plt.title(f'City Latitude vs. Max Temperature ({date.today()})')\n",
    "plt.tight_layout()\n",
    "plt.savefig('images/lat_vs_temp.png')\n",
    "plt.show()"
   ]
  },
  {
   "cell_type": "markdown",
   "metadata": {},
   "source": [
    "Observation: As the latitude changes, the temperature drops."
   ]
  },
  {
   "cell_type": "markdown",
   "metadata": {},
   "source": [
    "## Latitude vs. Humidity Plot"
   ]
  },
  {
   "cell_type": "code",
   "execution_count": 47,
   "metadata": {},
   "outputs": [
    {
     "data": {
      "image/png": "[encoded data removed]",
      "text/plain": [
       "<Figure size 432x288 with 1 Axes>"
      ]
     },
     "metadata": {
      "needs_background": "light"
     },
     "output_type": "display_data"
    }
   ],
   "source": [
    "weather_data_df.plot.scatter(\n",
    "    x = 'Lat', \n",
    "    y = 'Humidity', \n",
    ")\n",
    "plt.grid(alpha=0.5)\n",
    "plt.xlabel('Latitude')\n",
    "plt.ylabel('Humidity (%)')\n",
    "plt.title(f'City Latitude vs. Humidity ({date.today()})')\n",
    "plt.tight_layout()\n",
    "plt.savefig('images/lat_vs_humidity.png')\n",
    "plt.show()"
   ]
  },
  {
   "cell_type": "markdown",
   "metadata": {},
   "source": [
    "Observation: A majority of cities have humidity above 60%."
   ]
  },
  {
   "cell_type": "markdown",
   "metadata": {},
   "source": [
    "## Latitude vs. Cloudiness Plot"
   ]
  },
  {
   "cell_type": "code",
   "execution_count": 48,
   "metadata": {},
   "outputs": [
    {
     "data": {
      "image/png": "[encoded data removed]",
      "text/plain": [
       "<Figure size 432x288 with 1 Axes>"
      ]
     },
     "metadata": {
      "needs_background": "light"
     },
     "output_type": "display_data"
    }
   ],
   "source": [
    "weather_data_df.plot.scatter(\n",
    "    x = 'Lat', \n",
    "    y = 'Cloudiness', \n",
    ")\n",
    "plt.grid(alpha=0.5)\n",
    "plt.xlabel('Latitude')\n",
    "plt.ylabel('Cloudiness (%)')\n",
    "plt.title(f'City Latitude vs. Cloudiness ({date.today()})')\n",
    "plt.tight_layout()\n",
    "plt.savefig('images/lat_vs_cloudiness.png')\n",
    "plt.show()"
   ]
  },
  {
   "cell_type": "markdown",
   "metadata": {},
   "source": [
    "Observation: Doesn't appear to be any correlation between latitude and cloudiness."
   ]
  },
  {
   "cell_type": "markdown",
   "metadata": {},
   "source": [
    "## Latitude vs. Wind Speed Plot"
   ]
  },
  {
   "cell_type": "code",
   "execution_count": 51,
   "metadata": {},
   "outputs": [
    {
     "data": {
      "image/png": "[encoded data removed]",
      "text/plain": [
       "<Figure size 432x288 with 1 Axes>"
      ]
     },
     "metadata": {
      "needs_background": "light"
     },
     "output_type": "display_data"
    }
   ],
   "source": [
    "weather_data_df.plot.scatter(\n",
    "    x = 'Lat', \n",
    "    y = 'Wind Speed', \n",
    ")\n",
    "plt.grid(alpha=0.5)\n",
    "plt.xlabel('Latitude')\n",
    "plt.ylabel('Wind Speed (mph)')\n",
    "plt.title(f'City Latitude vs. Wind Speed ({date.today()})')\n",
    "plt.tight_layout()\n",
    "plt.savefig('images/lat_vs_wind.png')\n",
    "plt.show()"
   ]
  },
  {
   "cell_type": "markdown",
   "metadata": {},
   "source": [
    "Observation: Wind spped for most cities is below 15 mph."
   ]
  },
  {
   "cell_type": "markdown",
   "metadata": {},
   "source": [
    "## Linear Regression"
   ]
  },
  {
   "cell_type": "code",
   "execution_count": 93,
   "metadata": {},
   "outputs": [],
   "source": [
    "# Make a DataFrame for each hemisphere\n",
    "nhemisphere_df = weather_data_df[weather_data_df['Lat']>=0]\n",
    "shemisphere_df = weather_data_df[weather_data_df['Lat']<0]\n",
    "\n",
    "# Make a function for the linear regression because I don't wanna type this out every time\n",
    "def linear_regression(x_value, y_value, x_label, y_label, filename):\n",
    "    (slope, intercept, rvalue, _, _) = linregress(x_value, y_value)\n",
    "    regress_values = x_value * slope + intercept\n",
    "    line_eq = 'y = ' + str(round(slope,2)) + 'x + ' + str(round(intercept,2))\n",
    "    print(f'The r-value is: {round(rvalue**2, 4)}')\n",
    "    plt.scatter(x_value, y_value)\n",
    "    plt.plot(x_value, regress_values, 'r-')\n",
    "    plt.xlabel(x_label)\n",
    "    plt.ylabel(y_label)\n",
    "    plt.annotate(line_eq, coord, fontsize=14, color='r')\n",
    "    plt.tight_layout()\n",
    "    plt.savefig(f'images/{filename}.png')\n",
    "    plt.show()"
   ]
  },
  {
   "cell_type": "markdown",
   "metadata": {},
   "source": [
    "####  Northern Hemisphere - Max Temp vs. Latitude Linear Regression"
   ]
  },
  {
   "cell_type": "code",
   "execution_count": 94,
   "metadata": {},
   "outputs": [
    {
     "name": "stdout",
     "output_type": "stream",
     "text": [
      "The r-value is: 0.7246\n"
     ]
    },
    {
     "data": {
      "image/png": "[encoded data removed]",
      "text/plain": [
       "<Figure size 432x288 with 1 Axes>"
      ]
     },
     "metadata": {
      "needs_background": "light"
     },
     "output_type": "display_data"
    }
   ],
   "source": [
    "x_value = nhemisphere_df['Lat']\n",
    "y_value = nhemisphere_df['Max Temp']\n",
    "coord = (0,20)\n",
    "\n",
    "linear_regression(\n",
    "    x_value, \n",
    "    y_value, \n",
    "    x_label='Latitude', \n",
    "    y_label='Max Temp (F)', \n",
    "    filename='nhemisphere_temp_vs_lat'\n",
    ")"
   ]
  },
  {
   "cell_type": "markdown",
   "metadata": {},
   "source": [
    "Observation: The temperature drops as latitude increases suggesting is a negative correlation between latitude and temperature."
   ]
  },
  {
   "cell_type": "markdown",
   "metadata": {},
   "source": [
    "####  Southern Hemisphere - Max Temp vs. Latitude Linear Regression"
   ]
  },
  {
   "cell_type": "code",
   "execution_count": 95,
   "metadata": {},
   "outputs": [
    {
     "name": "stdout",
     "output_type": "stream",
     "text": [
      "The r-value is: 0.5299\n"
     ]
    },
    {
     "data": {
      "image/png": "[encoded data removed]",
      "text/plain": [
       "<Figure size 432x288 with 1 Axes>"
      ]
     },
     "metadata": {
      "needs_background": "light"
     },
     "output_type": "display_data"
    }
   ],
   "source": [
    "x_value = shemisphere_df['Lat']\n",
    "y_value = shemisphere_df['Max Temp']\n",
    "coord = (0,50)\n",
    "\n",
    "linear_regression(\n",
    "    x_value, \n",
    "    y_value, \n",
    "    x_label='Latitude', \n",
    "    y_label='Max Temp (F)', \n",
    "    filename='shemisphere_temp_vs_lat'\n",
    ")"
   ]
  },
  {
   "cell_type": "markdown",
   "metadata": {},
   "source": [
    "Observation: Temperatures increase as it gets to zero degrees latitude suggesting a positive correlation between latitude and temperature."
   ]
  },
  {
   "cell_type": "markdown",
   "metadata": {},
   "source": [
    "####  Northern Hemisphere - Humidity (%) vs. Latitude Linear Regression"
   ]
  },
  {
   "cell_type": "code",
   "execution_count": 97,
   "metadata": {},
   "outputs": [
    {
     "name": "stdout",
     "output_type": "stream",
     "text": [
      "The r-value is: 0.0016\n"
     ]
    },
    {
     "data": {
      "image/png": "[encoded data removed]",
      "text/plain": [
       "<Figure size 432x288 with 1 Axes>"
      ]
     },
     "metadata": {
      "needs_background": "light"
     },
     "output_type": "display_data"
    }
   ],
   "source": [
    "x_value = nhemisphere_df['Lat']\n",
    "y_value = nhemisphere_df['Humidity']\n",
    "coord = (0,20)\n",
    "\n",
    "linear_regression(\n",
    "    x_value, \n",
    "    y_value, \n",
    "    x_label='Latitude', \n",
    "    y_label='Humidity (%)', \n",
    "    filename='nhemisphere_humidity_vs_lat'\n",
    ")"
   ]
  },
  {
   "cell_type": "markdown",
   "metadata": {},
   "source": [
    "Observation: There is a weak correlation between humidity and latitude."
   ]
  },
  {
   "cell_type": "markdown",
   "metadata": {},
   "source": [
    "####  Southern Hemisphere - Humidity (%) vs. Latitude Linear Regression"
   ]
  },
  {
   "cell_type": "code",
   "execution_count": 98,
   "metadata": {},
   "outputs": [
    {
     "name": "stdout",
     "output_type": "stream",
     "text": [
      "The r-value is: 0.0008\n"
     ]
    },
    {
     "data": {
      "image/png": "[encoded data removed]",
      "text/plain": [
       "<Figure size 432x288 with 1 Axes>"
      ]
     },
     "metadata": {
      "needs_background": "light"
     },
     "output_type": "display_data"
    }
   ],
   "source": [
    "x_value = shemisphere_df['Lat']\n",
    "y_value = shemisphere_df['Humidity']\n",
    "coord = (0,20)\n",
    "\n",
    "linear_regression(\n",
    "    x_value, \n",
    "    y_value, \n",
    "    x_label='Latitude', \n",
    "    y_label='Humidity (%)', \n",
    "    filename='shemisphere_humidity_vs_lat'\n",
    ")"
   ]
  },
  {
   "cell_type": "markdown",
   "metadata": {},
   "source": [
    "Observation: There is a weak correlation between humidity and latitude."
   ]
  },
  {
   "cell_type": "markdown",
   "metadata": {},
   "source": [
    "####  Northern Hemisphere - Cloudiness (%) vs. Latitude Linear Regression"
   ]
  },
  {
   "cell_type": "code",
   "execution_count": 99,
   "metadata": {},
   "outputs": [
    {
     "name": "stdout",
     "output_type": "stream",
     "text": [
      "The r-value is: 0.0157\n"
     ]
    },
    {
     "data": {
      "image/png": "[encoded data removed]",
      "text/plain": [
       "<Figure size 432x288 with 1 Axes>"
      ]
     },
     "metadata": {
      "needs_background": "light"
     },
     "output_type": "display_data"
    }
   ],
   "source": [
    "x_value = nhemisphere_df['Lat']\n",
    "y_value = nhemisphere_df['Cloudiness']\n",
    "coord = (0,20)\n",
    "\n",
    "linear_regression(\n",
    "    x_value, \n",
    "    y_value, \n",
    "    x_label='Latitude', \n",
    "    y_label='Cloudiness (%)', \n",
    "    filename='nhemisphere_cloudiness_vs_lat'\n",
    ")"
   ]
  },
  {
   "cell_type": "markdown",
   "metadata": {},
   "source": [
    "Observation: There doesn't appear to be any correlation between cloudiness and latitude."
   ]
  },
  {
   "cell_type": "markdown",
   "metadata": {},
   "source": [
    "####  Southern Hemisphere - Cloudiness (%) vs. Latitude Linear Regression"
   ]
  },
  {
   "cell_type": "code",
   "execution_count": 100,
   "metadata": {},
   "outputs": [
    {
     "name": "stdout",
     "output_type": "stream",
     "text": [
      "The r-value is: 0.0023\n"
     ]
    },
    {
     "data": {
      "image/png": "[encoded data removed]",
      "text/plain": [
       "<Figure size 432x288 with 1 Axes>"
      ]
     },
     "metadata": {
      "needs_background": "light"
     },
     "output_type": "display_data"
    }
   ],
   "source": [
    "x_value = shemisphere_df['Lat']\n",
    "y_value = shemisphere_df['Cloudiness']\n",
    "coord = (0,20)\n",
    "\n",
    "linear_regression(\n",
    "    x_value, \n",
    "    y_value, \n",
    "    x_label='Latitude', \n",
    "    y_label='Cloudiness (%)', \n",
    "    filename='shemisphere_cloudiness_vs_lat'\n",
    ")"
   ]
  },
  {
   "cell_type": "markdown",
   "metadata": {},
   "source": [
    "Observation: There doesn't appear to be any correlation between cloudiness and latitude."
   ]
  },
  {
   "cell_type": "markdown",
   "metadata": {},
   "source": [
    "####  Northern Hemisphere - Wind Speed (mph) vs. Latitude Linear Regression"
   ]
  },
  {
   "cell_type": "code",
   "execution_count": 101,
   "metadata": {},
   "outputs": [
    {
     "name": "stdout",
     "output_type": "stream",
     "text": [
      "The r-value is: 0.0397\n"
     ]
    },
    {
     "data": {
      "image/png": "[encoded data removed]",
      "text/plain": [
       "<Figure size 432x288 with 1 Axes>"
      ]
     },
     "metadata": {
      "needs_background": "light"
     },
     "output_type": "display_data"
    }
   ],
   "source": [
    "x_value = nhemisphere_df['Lat']\n",
    "y_value = nhemisphere_df['Wind Speed']\n",
    "coord = (0,20)\n",
    "\n",
    "linear_regression(\n",
    "    x_value, \n",
    "    y_value, \n",
    "    x_label='Latitude', \n",
    "    y_label='Wind Speed (mph)', \n",
    "    filename='nhemisphere_wind_vs_lat'\n",
    ")"
   ]
  },
  {
   "cell_type": "markdown",
   "metadata": {},
   "source": [
    "Observation: Overall wind speeds are between 0 and 10 mph suggesting a slight positive correlation. "
   ]
  },
  {
   "cell_type": "markdown",
   "metadata": {},
   "source": [
    "####  Southern Hemisphere - Wind Speed (mph) vs. Latitude Linear Regression"
   ]
  },
  {
   "cell_type": "code",
   "execution_count": 102,
   "metadata": {},
   "outputs": [
    {
     "name": "stdout",
     "output_type": "stream",
     "text": [
      "The r-value is: 0.0363\n"
     ]
    },
    {
     "data": {
      "image/png": "[encoded data removed]",
      "text/plain": [
       "<Figure size 432x288 with 1 Axes>"
      ]
     },
     "metadata": {
      "needs_background": "light"
     },
     "output_type": "display_data"
    }
   ],
   "source": [
    "x_value = shemisphere_df['Lat']\n",
    "y_value = shemisphere_df['Wind Speed']\n",
    "coord = (0,20)\n",
    "\n",
    "linear_regression(\n",
    "    x_value, \n",
    "    y_value, \n",
    "    x_label='Latitude', \n",
    "    y_label='Wind Speed (mph)', \n",
    "    filename='shemisphere_wind_vs_lat'\n",
    ")"
   ]
  },
  {
   "cell_type": "markdown",
   "metadata": {},
   "source": [
    "Observation: Cities closer to zero degrees latitue have greater wind speeds suggesting a negative correlation. "
   ]
  }
 ],
 "metadata": {
  "anaconda-cloud": {},
  "kernel_info": {
   "name": "python3"
  },
  "kernelspec": {
   "display_name": "Python 3",
   "language": "python",
   "name": "python3"
  },
  "language_info": {
   "codemirror_mode": {
    "name": "ipython",
    "version": 3
   },
   "file_extension": ".py",
   "mimetype": "text/x-python",
   "name": "python",
   "nbconvert_exporter": "python",
   "pygments_lexer": "ipython3",
   "version": "3.8.8"
  },
  "latex_envs": {
   "LaTeX_envs_menu_present": true,
   "autoclose": false,
   "autocomplete": true,
   "bibliofile": "biblio.bib",
   "cite_by": "apalike",
   "current_citInitial": 1,
   "eqLabelWithNumbers": true,
   "eqNumInitial": 1,
   "hotkeys": {
    "equation": "Ctrl-E",
    "itemize": "Ctrl-I"
   },
   "labels_anchors": false,
   "latex_user_defs": false,
   "report_style_numbering": false,
   "user_envs_cfg": false
  },
  "nteract": {
   "version": "0.12.3"
  }
 },
 "nbformat": 4,
 "nbformat_minor": 2
}
